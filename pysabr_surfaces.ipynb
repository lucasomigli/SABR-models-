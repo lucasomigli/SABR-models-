{
 "cells": [
  {
   "cell_type": "code",
   "execution_count": 1,
   "source": [
    "import pandas as pd\r\n",
    "import numpy as np\r\n",
    "import matplotlib.pyplot as plt\r\n",
    "%matplotlib inline\r\n",
    "import itertools\r\n",
    "import os.path\r\n",
    "\r\n",
    "# Import both Lognormal and Normal SABR model classes\r\n",
    "from pysabr import Hagan2002NormalSABR\r\n",
    "from pysabr.helpers import year_frac_from_maturity_label\r\n"
   ],
   "outputs": [],
   "metadata": {}
  },
  {
   "cell_type": "code",
   "execution_count": 2,
   "source": [
    "# Construct dataframe so that it matches for the model to work\r\n",
    "\r\n",
    "df = pd.read_csv(vols_csv)\r\n",
    "df.set_index(['Type', 'Option_expiry'], inplace=True)\r\n",
    "df.sort_index(inplace=True)\r\n",
    "idx = pd.IndexSlice\r\n"
   ],
   "outputs": [
    {
     "output_type": "error",
     "ename": "NameError",
     "evalue": "name 'vols_csv' is not defined",
     "traceback": [
      "\u001b[1;31m---------------------------------------------------------------------------\u001b[0m",
      "\u001b[1;31mNameError\u001b[0m                                 Traceback (most recent call last)",
      "\u001b[1;32m~\\AppData\\Local\\Temp/ipykernel_9512/651904971.py\u001b[0m in \u001b[0;36m<module>\u001b[1;34m\u001b[0m\n\u001b[0;32m      1\u001b[0m \u001b[1;31m# Construct dataframe so that it matches for the model to work\u001b[0m\u001b[1;33m\u001b[0m\u001b[1;33m\u001b[0m\u001b[1;33m\u001b[0m\u001b[0m\n\u001b[0;32m      2\u001b[0m \u001b[1;33m\u001b[0m\u001b[0m\n\u001b[1;32m----> 3\u001b[1;33m \u001b[0mdf\u001b[0m \u001b[1;33m=\u001b[0m \u001b[0mpd\u001b[0m\u001b[1;33m.\u001b[0m\u001b[0mread_csv\u001b[0m\u001b[1;33m(\u001b[0m\u001b[0mvols_csv\u001b[0m\u001b[1;33m)\u001b[0m\u001b[1;33m\u001b[0m\u001b[1;33m\u001b[0m\u001b[0m\n\u001b[0m\u001b[0;32m      4\u001b[0m \u001b[0mdf\u001b[0m\u001b[1;33m.\u001b[0m\u001b[0mset_index\u001b[0m\u001b[1;33m(\u001b[0m\u001b[1;33m[\u001b[0m\u001b[1;34m'Type'\u001b[0m\u001b[1;33m,\u001b[0m \u001b[1;34m'Option_expiry'\u001b[0m\u001b[1;33m]\u001b[0m\u001b[1;33m,\u001b[0m \u001b[0minplace\u001b[0m\u001b[1;33m=\u001b[0m\u001b[1;32mTrue\u001b[0m\u001b[1;33m)\u001b[0m\u001b[1;33m\u001b[0m\u001b[1;33m\u001b[0m\u001b[0m\n\u001b[0;32m      5\u001b[0m \u001b[0mdf\u001b[0m\u001b[1;33m.\u001b[0m\u001b[0msort_index\u001b[0m\u001b[1;33m(\u001b[0m\u001b[0minplace\u001b[0m\u001b[1;33m=\u001b[0m\u001b[1;32mTrue\u001b[0m\u001b[1;33m)\u001b[0m\u001b[1;33m\u001b[0m\u001b[1;33m\u001b[0m\u001b[0m\n",
      "\u001b[1;31mNameError\u001b[0m: name 'vols_csv' is not defined"
     ]
    }
   ],
   "metadata": {}
  },
  {
   "cell_type": "code",
   "execution_count": null,
   "source": [
    "fig, axes = plt.subplots(50, n)\r\n",
    "fig.set_dpi(200)\r\n",
    "fig.set_size_inches((12, 12))\r\n",
    "fig.tight_layout(w_pad=0.5, h_pad=2.0)\r\n",
    "\r\n",
    "for ((option_expiry, K), ax) in zip(swaption_grid, fig.get_axes()):\r\n",
    "    beta, f, v_atm_n, rho, shift, volvol = list(df.loc[idx[:, option_expiry], K].reset_index(level=1, drop=True))\r\n",
    "    t = year_frac_from_maturity_label(option_expiry)\r\n",
    "    sabr_n = Hagan2002NormalSABR(f/100, shift/100, t, v_atm_n/1e4, beta, rho, volvol)\r\n",
    "    sabr_n_vols = [sabr_n.normal_vol(k/100) * 1e4 for k in strikes]\r\n",
    "    ax.plot(strikes, sabr_n_vols, linewidth=1.0, linestyle='--')\r\n",
    "    ax.set_xlim((-1.0, 6.0))\r\n",
    "    ax.set_ylim((30., 170.))\r\n",
    "    ax.set_title(\"{} into {}\".format(option_expiry, K))\r\n",
    "\r\n",
    "line_sabr_n = axes[0][0].get_lines()[1]\r\n",
    "fig.legend(handles=(line_sabr_ln, line_sabr_n), labels=('Hagan 2002 Normal SABR'), loc='upper right')\r\n",
    "fig.suptitle(\"Hagan 2002 SABR model\", fontsize=16)\r\n",
    "fig.subplots_adjust(top=0.92)\r\n",
    "fig.savefig(\"Normal SABR.pdf\", format='pdf')\r\n"
   ],
   "outputs": [],
   "metadata": {}
  },
  {
   "cell_type": "code",
   "execution_count": null,
   "source": [],
   "outputs": [],
   "metadata": {}
  }
 ],
 "metadata": {
  "orig_nbformat": 4,
  "language_info": {
   "name": "python",
   "version": "3.9.6",
   "mimetype": "text/x-python",
   "codemirror_mode": {
    "name": "ipython",
    "version": 3
   },
   "pygments_lexer": "ipython3",
   "nbconvert_exporter": "python",
   "file_extension": ".py"
  },
  "kernelspec": {
   "name": "python3",
   "display_name": "Python 3.9.6 64-bit"
  },
  "interpreter": {
   "hash": "ac59ebe37160ed0dfa835113d9b8498d9f09ceb179beaac4002f036b9467c963"
  }
 },
 "nbformat": 4,
 "nbformat_minor": 2
}